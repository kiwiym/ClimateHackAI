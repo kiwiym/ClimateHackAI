{
 "cells": [
  {
   "cell_type": "code",
   "execution_count": 1,
   "id": "14f95cfd-0381-4fab-b420-c530dbae0a1d",
   "metadata": {},
   "outputs": [
    {
     "name": "stderr",
     "output_type": "stream",
     "text": [
      "/home/jw/anaconda3/envs/qc/lib/python3.9/site-packages/requests/__init__.py:102: RequestsDependencyWarning: urllib3 (1.26.14) or chardet (5.2.0)/charset_normalizer (2.0.12) doesn't match a supported version!\n",
      "  warnings.warn(\"urllib3 ({}) or chardet ({})/charset_normalizer ({}) doesn't match a supported \"\n"
     ]
    }
   ],
   "source": [
    "import os\n",
    "import json\n",
    "import math\n",
    "import zarr\n",
    "import torch\n",
    "import numpy as np\n",
    "import xarray as xr\n",
    "import pandas as pd\n",
    "import matplotlib.pyplot as plt\n",
    "from data_util_prev import Downloader, DATASET_TREE\n",
    "from torch.utils.data import IterableDataset, DataLoader"
   ]
  },
  {
   "cell_type": "code",
   "execution_count": 2,
   "id": "eec9f3b2-8ce6-4aa5-abf6-766ecd2710b7",
   "metadata": {},
   "outputs": [],
   "source": [
    "data_dir = os.path.join(\"..\", \"climatehackai-2023\")\n",
    "\n",
    "start_year, start_month = 2021, 1\n",
    "end_year, end_month = 2021, 11\n",
    "\n",
    "downloader = Downloader(data_dir=data_dir)\n",
    "downloader.download(start_year, end_year, start_month, end_month)\n",
    "\n",
    "# Load data into a dictionary\n",
    "# data_dict = downloader.load_dataset(start_year, start_month, end_year, end_month)"
   ]
  },
  {
   "cell_type": "code",
   "execution_count": 3,
   "id": "445d7910-d660-4eff-a57f-61beb51ee145",
   "metadata": {},
   "outputs": [],
   "source": [
    "with open(\"indices.json\") as f:\n",
    "    site_locations = {\n",
    "        data_source: {\n",
    "            int(site): (int(location[0]), int(location[1]))\n",
    "            for site, location in locations.items()\n",
    "        }\n",
    "        for data_source, locations in json.load(f).items()\n",
    "    }"
   ]
  },
  {
   "cell_type": "code",
   "execution_count": 4,
   "id": "7be85f17-83bf-4c4c-ac1c-e02b753b1f2e",
   "metadata": {},
   "outputs": [
    {
     "data": {
      "text/plain": [
       "dict_keys(['hrv', 'nonhrv', 'weather', 'aerosols'])"
      ]
     },
     "execution_count": 4,
     "metadata": {},
     "output_type": "execute_result"
    }
   ],
   "source": [
    "site_locations.keys()"
   ]
  },
  {
   "cell_type": "code",
   "execution_count": 5,
   "id": "08d0ce64-3ac6-4491-9d90-29795f07de36",
   "metadata": {},
   "outputs": [
    {
     "name": "stdout",
     "output_type": "stream",
     "text": [
      "993\n",
      "993\n",
      "993\n",
      "993\n"
     ]
    }
   ],
   "source": [
    "hrv_sites = list(site_locations[\"hrv\"])\n",
    "print(len(hrv_sites))\n",
    "\n",
    "nonhrv_sites = list(site_locations[\"nonhrv\"])\n",
    "print(len(nonhrv_sites))\n",
    "\n",
    "weather_sites = list(site_locations[\"weather\"])\n",
    "print(len(weather_sites))\n",
    "\n",
    "print(len(set(hrv_sites).union(set(nonhrv_sites)).union(set(weather_sites))))"
   ]
  },
  {
   "cell_type": "code",
   "execution_count": null,
   "id": "d1f92735-fc11-4aa0-a703-ecd73c5563e9",
   "metadata": {},
   "outputs": [],
   "source": []
  },
  {
   "cell_type": "code",
   "execution_count": 6,
   "id": "7e51fad2-e776-4450-aa08-ed3da0d25371",
   "metadata": {},
   "outputs": [
    {
     "data": {
      "text/plain": [
       "['../climatehackai-2023/satellite-hrv/2021/1.zarr.zip',\n",
       " '../climatehackai-2023/satellite-hrv/2021/2.zarr.zip',\n",
       " '../climatehackai-2023/satellite-hrv/2021/3.zarr.zip',\n",
       " '../climatehackai-2023/satellite-hrv/2021/4.zarr.zip',\n",
       " '../climatehackai-2023/satellite-hrv/2021/5.zarr.zip',\n",
       " '../climatehackai-2023/satellite-hrv/2021/6.zarr.zip',\n",
       " '../climatehackai-2023/satellite-hrv/2021/7.zarr.zip',\n",
       " '../climatehackai-2023/satellite-hrv/2021/8.zarr.zip',\n",
       " '../climatehackai-2023/satellite-hrv/2021/9.zarr.zip',\n",
       " '../climatehackai-2023/satellite-hrv/2021/10.zarr.zip',\n",
       " '../climatehackai-2023/satellite-hrv/2021/11.zarr.zip']"
      ]
     },
     "execution_count": 6,
     "metadata": {},
     "output_type": "execute_result"
    }
   ],
   "source": [
    "hrv_paths = [os.path.join(data_dir, \"satellite-hrv\", \"2021\", f)\n",
    "             for f in DATASET_TREE[\"satellite-hrv\"][2021][:-1]]\n",
    "hrv_paths"
   ]
  },
  {
   "cell_type": "code",
   "execution_count": 7,
   "id": "4cdeb362-1fc0-4550-af1a-829128370603",
   "metadata": {},
   "outputs": [],
   "source": [
    "hrv_data = zarr.open(hrv_paths[0], mode='r')"
   ]
  },
  {
   "cell_type": "code",
   "execution_count": 8,
   "id": "2ad59d26-552f-4666-97f3-765d67511400",
   "metadata": {},
   "outputs": [
    {
     "data": {
      "text/plain": [
       "array(['2021-01-01T04:00:00.000000000', '2021-01-01T04:05:00.000000000',\n",
       "       '2021-01-01T04:10:00.000000000', ...,\n",
       "       '2021-01-31T21:50:00.000000000', '2021-01-31T21:55:00.000000000',\n",
       "       '2021-01-31T22:00:00.000000000'], dtype='datetime64[ns]')"
      ]
     },
     "execution_count": 8,
     "metadata": {},
     "output_type": "execute_result"
    }
   ],
   "source": [
    "hrv_data.time.astype(\"datetime64[ns]\")[:]"
   ]
  },
  {
   "cell_type": "code",
   "execution_count": 9,
   "id": "84c76673-242c-49ac-b346-159fb2dd9b06",
   "metadata": {},
   "outputs": [],
   "source": [
    "def load_parquet(file_path):\n",
    "    return pd.read_parquet(file_path, engine='pyarrow').drop(\"generation_wh\", axis=1)"
   ]
  },
  {
   "cell_type": "code",
   "execution_count": 10,
   "id": "e7b70074-d44c-4407-920b-bd340cafd8fd",
   "metadata": {},
   "outputs": [
    {
     "data": {
      "text/plain": [
       "['../climatehackai-2023/pv/2021/1.parquet',\n",
       " '../climatehackai-2023/pv/2021/2.parquet',\n",
       " '../climatehackai-2023/pv/2021/3.parquet',\n",
       " '../climatehackai-2023/pv/2021/4.parquet',\n",
       " '../climatehackai-2023/pv/2021/5.parquet',\n",
       " '../climatehackai-2023/pv/2021/6.parquet',\n",
       " '../climatehackai-2023/pv/2021/7.parquet',\n",
       " '../climatehackai-2023/pv/2021/8.parquet',\n",
       " '../climatehackai-2023/pv/2021/9.parquet',\n",
       " '../climatehackai-2023/pv/2021/10.parquet',\n",
       " '../climatehackai-2023/pv/2021/11.parquet']"
      ]
     },
     "execution_count": 10,
     "metadata": {},
     "output_type": "execute_result"
    }
   ],
   "source": [
    "pv_paths = [os.path.join(data_dir, \"pv\", \"2021\", f) for f in DATASET_TREE[\"pv\"][2021][:-1]]\n",
    "pv_paths"
   ]
  },
  {
   "cell_type": "code",
   "execution_count": 11,
   "id": "5a02e496-a254-4f82-aa80-3dfc40131a60",
   "metadata": {},
   "outputs": [],
   "source": [
    "pv_dfs = [load_parquet(pv_path) for pv_path in pv_paths]"
   ]
  },
  {
   "cell_type": "code",
   "execution_count": 12,
   "id": "17334710-c634-4591-890a-ee6132b4654c",
   "metadata": {},
   "outputs": [],
   "source": [
    "months = [\"Jan\", \"Feb\", \"Mar\", \"Apr\", \"May\", \"Jun\",\n",
    "          \"Jul\", \"Aug\", \"Sep\", \"Oct\", \"Nov\"]\n",
    "pv_lens = [len(df.index.get_level_values(level=1).unique()) for df in pv_dfs]"
   ]
  },
  {
   "cell_type": "code",
   "execution_count": 13,
   "id": "5f245e7f-8469-4b0d-bb6e-c682ca82019c",
   "metadata": {},
   "outputs": [
    {
     "data": {
      "text/plain": [
       "(800.0, 900.0)"
      ]
     },
     "execution_count": 13,
     "metadata": {},
     "output_type": "execute_result"
    },
    {
     "data": {
      "image/png": "[encoded data removed]",
      "text/plain": [
       "<Figure size 640x480 with 1 Axes>"
      ]
     },
     "metadata": {},
     "output_type": "display_data"
    }
   ],
   "source": [
    "plt.bar(months, pv_lens)\n",
    "plt.ylim(800, 900)"
   ]
  },
  {
   "cell_type": "code",
   "execution_count": 64,
   "id": "7bf59d85-a675-4216-a26b-82d99cd7b1b0",
   "metadata": {},
   "outputs": [
    {
     "data": {
      "text/html": [
       "<div>\n",
       "<style scoped>\n",
       "    .dataframe tbody tr th:only-of-type {\n",
       "        vertical-align: middle;\n",
       "    }\n",
       "\n",
       "    .dataframe tbody tr th {\n",
       "        vertical-align: top;\n",
       "    }\n",
       "\n",
       "    .dataframe thead th {\n",
       "        text-align: right;\n",
       "    }\n",
       "</style>\n",
       "<table border=\"1\" class=\"dataframe\">\n",
       "  <thead>\n",
       "    <tr style=\"text-align: right;\">\n",
       "      <th></th>\n",
       "      <th>latitude_rounded</th>\n",
       "      <th>longitude_rounded</th>\n",
       "      <th>llsoacd</th>\n",
       "      <th>orientation</th>\n",
       "      <th>tilt</th>\n",
       "      <th>kwp</th>\n",
       "      <th>operational_at</th>\n",
       "    </tr>\n",
       "    <tr>\n",
       "      <th>ss_id</th>\n",
       "      <th></th>\n",
       "      <th></th>\n",
       "      <th></th>\n",
       "      <th></th>\n",
       "      <th></th>\n",
       "      <th></th>\n",
       "      <th></th>\n",
       "    </tr>\n",
       "  </thead>\n",
       "  <tbody>\n",
       "    <tr>\n",
       "      <th>2405</th>\n",
       "      <td>53.53</td>\n",
       "      <td>-1.63</td>\n",
       "      <td>E01007430</td>\n",
       "      <td>180.0</td>\n",
       "      <td>35.0</td>\n",
       "      <td>3.36</td>\n",
       "      <td>2010-11-18</td>\n",
       "    </tr>\n",
       "    <tr>\n",
       "      <th>2406</th>\n",
       "      <td>54.88</td>\n",
       "      <td>-1.38</td>\n",
       "      <td>E01008780</td>\n",
       "      <td>315.0</td>\n",
       "      <td>30.0</td>\n",
       "      <td>1.89</td>\n",
       "      <td>2010-12-03</td>\n",
       "    </tr>\n",
       "    <tr>\n",
       "      <th>2407</th>\n",
       "      <td>54.88</td>\n",
       "      <td>-1.38</td>\n",
       "      <td>E01008780</td>\n",
       "      <td>225.0</td>\n",
       "      <td>30.0</td>\n",
       "      <td>1.89</td>\n",
       "      <td>2010-12-03</td>\n",
       "    </tr>\n",
       "    <tr>\n",
       "      <th>2408</th>\n",
       "      <td>54.88</td>\n",
       "      <td>-1.38</td>\n",
       "      <td>E01008780</td>\n",
       "      <td>225.0</td>\n",
       "      <td>30.0</td>\n",
       "      <td>1.89</td>\n",
       "      <td>2010-12-03</td>\n",
       "    </tr>\n",
       "    <tr>\n",
       "      <th>2409</th>\n",
       "      <td>54.88</td>\n",
       "      <td>-1.38</td>\n",
       "      <td>E01008780</td>\n",
       "      <td>225.0</td>\n",
       "      <td>30.0</td>\n",
       "      <td>1.89</td>\n",
       "      <td>2010-12-03</td>\n",
       "    </tr>\n",
       "    <tr>\n",
       "      <th>...</th>\n",
       "      <td>...</td>\n",
       "      <td>...</td>\n",
       "      <td>...</td>\n",
       "      <td>...</td>\n",
       "      <td>...</td>\n",
       "      <td>...</td>\n",
       "      <td>...</td>\n",
       "    </tr>\n",
       "    <tr>\n",
       "      <th>27063</th>\n",
       "      <td>51.41</td>\n",
       "      <td>-2.49</td>\n",
       "      <td>E01014398</td>\n",
       "      <td>185.0</td>\n",
       "      <td>35.0</td>\n",
       "      <td>4.00</td>\n",
       "      <td>2018-04-18</td>\n",
       "    </tr>\n",
       "    <tr>\n",
       "      <th>27064</th>\n",
       "      <td>51.47</td>\n",
       "      <td>-0.59</td>\n",
       "      <td>E01016588</td>\n",
       "      <td>180.0</td>\n",
       "      <td>45.0</td>\n",
       "      <td>2.00</td>\n",
       "      <td>2018-04-18</td>\n",
       "    </tr>\n",
       "    <tr>\n",
       "      <th>27065</th>\n",
       "      <td>51.36</td>\n",
       "      <td>-2.93</td>\n",
       "      <td>E01014817</td>\n",
       "      <td>125.0</td>\n",
       "      <td>37.0</td>\n",
       "      <td>4.00</td>\n",
       "      <td>2018-04-18</td>\n",
       "    </tr>\n",
       "    <tr>\n",
       "      <th>27066</th>\n",
       "      <td>51.44</td>\n",
       "      <td>-2.85</td>\n",
       "      <td>E01014759</td>\n",
       "      <td>165.0</td>\n",
       "      <td>35.0</td>\n",
       "      <td>4.00</td>\n",
       "      <td>2018-04-18</td>\n",
       "    </tr>\n",
       "    <tr>\n",
       "      <th>27067</th>\n",
       "      <td>53.52</td>\n",
       "      <td>-2.48</td>\n",
       "      <td>E01006291</td>\n",
       "      <td>117.0</td>\n",
       "      <td>33.0</td>\n",
       "      <td>2.00</td>\n",
       "      <td>2018-04-18</td>\n",
       "    </tr>\n",
       "  </tbody>\n",
       "</table>\n",
       "<p>24662 rows × 7 columns</p>\n",
       "</div>"
      ],
      "text/plain": [
       "       latitude_rounded  longitude_rounded    llsoacd  orientation  tilt  \\\n",
       "ss_id                                                                      \n",
       "2405              53.53              -1.63  E01007430        180.0  35.0   \n",
       "2406              54.88              -1.38  E01008780        315.0  30.0   \n",
       "2407              54.88              -1.38  E01008780        225.0  30.0   \n",
       "2408              54.88              -1.38  E01008780        225.0  30.0   \n",
       "2409              54.88              -1.38  E01008780        225.0  30.0   \n",
       "...                 ...                ...        ...          ...   ...   \n",
       "27063             51.41              -2.49  E01014398        185.0  35.0   \n",
       "27064             51.47              -0.59  E01016588        180.0  45.0   \n",
       "27065             51.36              -2.93  E01014817        125.0  37.0   \n",
       "27066             51.44              -2.85  E01014759        165.0  35.0   \n",
       "27067             53.52              -2.48  E01006291        117.0  33.0   \n",
       "\n",
       "        kwp operational_at  \n",
       "ss_id                       \n",
       "2405   3.36     2010-11-18  \n",
       "2406   1.89     2010-12-03  \n",
       "2407   1.89     2010-12-03  \n",
       "2408   1.89     2010-12-03  \n",
       "2409   1.89     2010-12-03  \n",
       "...     ...            ...  \n",
       "27063  4.00     2018-04-18  \n",
       "27064  2.00     2018-04-18  \n",
       "27065  4.00     2018-04-18  \n",
       "27066  4.00     2018-04-18  \n",
       "27067  2.00     2018-04-18  \n",
       "\n",
       "[24662 rows x 7 columns]"
      ]
     },
     "execution_count": 64,
     "metadata": {},
     "output_type": "execute_result"
    }
   ],
   "source": [
    "pv_meta = pd.read_csv(os.path.join(data_dir, \"pv\", \"metadata.csv\"), index_col=\"ss_id\")\n",
    "pv_meta"
   ]
  },
  {
   "cell_type": "code",
   "execution_count": 73,
   "id": "4eebd420-c3e2-41fc-bdfe-cfc142164077",
   "metadata": {},
   "outputs": [
    {
     "data": {
      "text/html": [
       "<div>\n",
       "<style scoped>\n",
       "    .dataframe tbody tr th:only-of-type {\n",
       "        vertical-align: middle;\n",
       "    }\n",
       "\n",
       "    .dataframe tbody tr th {\n",
       "        vertical-align: top;\n",
       "    }\n",
       "\n",
       "    .dataframe thead th {\n",
       "        text-align: right;\n",
       "    }\n",
       "</style>\n",
       "<table border=\"1\" class=\"dataframe\">\n",
       "  <thead>\n",
       "    <tr style=\"text-align: right;\">\n",
       "      <th></th>\n",
       "      <th>latitude_rounded</th>\n",
       "      <th>longitude_rounded</th>\n",
       "      <th>llsoacd</th>\n",
       "      <th>orientation</th>\n",
       "      <th>tilt</th>\n",
       "      <th>kwp</th>\n",
       "      <th>operational_at</th>\n",
       "    </tr>\n",
       "    <tr>\n",
       "      <th>ss_id</th>\n",
       "      <th></th>\n",
       "      <th></th>\n",
       "      <th></th>\n",
       "      <th></th>\n",
       "      <th></th>\n",
       "      <th></th>\n",
       "      <th></th>\n",
       "    </tr>\n",
       "  </thead>\n",
       "  <tbody>\n",
       "    <tr>\n",
       "      <th>2607</th>\n",
       "      <td>52.44</td>\n",
       "      <td>-0.12</td>\n",
       "      <td>E01018211</td>\n",
       "      <td>200.0</td>\n",
       "      <td>35.0</td>\n",
       "      <td>2.94</td>\n",
       "      <td>2011-08-25</td>\n",
       "    </tr>\n",
       "    <tr>\n",
       "      <th>2626</th>\n",
       "      <td>54.99</td>\n",
       "      <td>-3.18</td>\n",
       "      <td>S00097762</td>\n",
       "      <td>270.0</td>\n",
       "      <td>22.0</td>\n",
       "      <td>3.60</td>\n",
       "      <td>2011-08-18</td>\n",
       "    </tr>\n",
       "    <tr>\n",
       "      <th>2631</th>\n",
       "      <td>51.81</td>\n",
       "      <td>-2.50</td>\n",
       "      <td>E01022250</td>\n",
       "      <td>130.0</td>\n",
       "      <td>30.0</td>\n",
       "      <td>4.00</td>\n",
       "      <td>2011-08-27</td>\n",
       "    </tr>\n",
       "    <tr>\n",
       "      <th>2657</th>\n",
       "      <td>51.49</td>\n",
       "      <td>0.36</td>\n",
       "      <td>E01015937</td>\n",
       "      <td>185.0</td>\n",
       "      <td>47.0</td>\n",
       "      <td>4.00</td>\n",
       "      <td>2011-08-26</td>\n",
       "    </tr>\n",
       "    <tr>\n",
       "      <th>2660</th>\n",
       "      <td>52.22</td>\n",
       "      <td>1.49</td>\n",
       "      <td>E01030209</td>\n",
       "      <td>90.0</td>\n",
       "      <td>36.0</td>\n",
       "      <td>4.00</td>\n",
       "      <td>2011-08-29</td>\n",
       "    </tr>\n",
       "    <tr>\n",
       "      <th>...</th>\n",
       "      <td>...</td>\n",
       "      <td>...</td>\n",
       "      <td>...</td>\n",
       "      <td>...</td>\n",
       "      <td>...</td>\n",
       "      <td>...</td>\n",
       "      <td>...</td>\n",
       "    </tr>\n",
       "    <tr>\n",
       "      <th>27063</th>\n",
       "      <td>51.41</td>\n",
       "      <td>-2.49</td>\n",
       "      <td>E01014398</td>\n",
       "      <td>185.0</td>\n",
       "      <td>35.0</td>\n",
       "      <td>4.00</td>\n",
       "      <td>2018-04-18</td>\n",
       "    </tr>\n",
       "    <tr>\n",
       "      <th>27064</th>\n",
       "      <td>51.47</td>\n",
       "      <td>-0.59</td>\n",
       "      <td>E01016588</td>\n",
       "      <td>180.0</td>\n",
       "      <td>45.0</td>\n",
       "      <td>2.00</td>\n",
       "      <td>2018-04-18</td>\n",
       "    </tr>\n",
       "    <tr>\n",
       "      <th>27065</th>\n",
       "      <td>51.36</td>\n",
       "      <td>-2.93</td>\n",
       "      <td>E01014817</td>\n",
       "      <td>125.0</td>\n",
       "      <td>37.0</td>\n",
       "      <td>4.00</td>\n",
       "      <td>2018-04-18</td>\n",
       "    </tr>\n",
       "    <tr>\n",
       "      <th>27066</th>\n",
       "      <td>51.44</td>\n",
       "      <td>-2.85</td>\n",
       "      <td>E01014759</td>\n",
       "      <td>165.0</td>\n",
       "      <td>35.0</td>\n",
       "      <td>4.00</td>\n",
       "      <td>2018-04-18</td>\n",
       "    </tr>\n",
       "    <tr>\n",
       "      <th>27067</th>\n",
       "      <td>53.52</td>\n",
       "      <td>-2.48</td>\n",
       "      <td>E01006291</td>\n",
       "      <td>117.0</td>\n",
       "      <td>33.0</td>\n",
       "      <td>2.00</td>\n",
       "      <td>2018-04-18</td>\n",
       "    </tr>\n",
       "  </tbody>\n",
       "</table>\n",
       "<p>993 rows × 7 columns</p>\n",
       "</div>"
      ],
      "text/plain": [
       "       latitude_rounded  longitude_rounded    llsoacd  orientation  tilt  \\\n",
       "ss_id                                                                      \n",
       "2607              52.44              -0.12  E01018211        200.0  35.0   \n",
       "2626              54.99              -3.18  S00097762        270.0  22.0   \n",
       "2631              51.81              -2.50  E01022250        130.0  30.0   \n",
       "2657              51.49               0.36  E01015937        185.0  47.0   \n",
       "2660              52.22               1.49  E01030209         90.0  36.0   \n",
       "...                 ...                ...        ...          ...   ...   \n",
       "27063             51.41              -2.49  E01014398        185.0  35.0   \n",
       "27064             51.47              -0.59  E01016588        180.0  45.0   \n",
       "27065             51.36              -2.93  E01014817        125.0  37.0   \n",
       "27066             51.44              -2.85  E01014759        165.0  35.0   \n",
       "27067             53.52              -2.48  E01006291        117.0  33.0   \n",
       "\n",
       "        kwp operational_at  \n",
       "ss_id                       \n",
       "2607   2.94     2011-08-25  \n",
       "2626   3.60     2011-08-18  \n",
       "2631   4.00     2011-08-27  \n",
       "2657   4.00     2011-08-26  \n",
       "2660   4.00     2011-08-29  \n",
       "...     ...            ...  \n",
       "27063  4.00     2018-04-18  \n",
       "27064  2.00     2018-04-18  \n",
       "27065  4.00     2018-04-18  \n",
       "27066  4.00     2018-04-18  \n",
       "27067  2.00     2018-04-18  \n",
       "\n",
       "[993 rows x 7 columns]"
      ]
     },
     "execution_count": 73,
     "metadata": {},
     "output_type": "execute_result"
    }
   ],
   "source": [
    "pv_meta_filtered = pv_meta[pv_meta.index.isin(set(hrv_sites))]\n",
    "pv_meta_filtered"
   ]
  },
  {
   "cell_type": "code",
   "execution_count": 39,
   "id": "1fc33b95-eee4-4c89-abfd-af459235eb31",
   "metadata": {},
   "outputs": [],
   "source": [
    "class Dataset(IterableDataset):\n",
    "    def __init__(self, hrv_paths, nonhrv_paths, pv_paths, weather_paths, \n",
    "                 site_locations, weather_features, sites=None):\n",
    "        super(Dataset, self).__init__()\n",
    "        # Site Locations\n",
    "        self._site_locations = site_locations\n",
    "        self._sites = sites if sites else list(site_locations[\"hrv\"].keys())\n",
    "        \n",
    "        self.hrv_paths = hrv_paths\n",
    "        self.nonhrv_paths = nonhrv_paths\n",
    "        self.pv_paths = pv_paths\n",
    "        self.weather_paths = weather_paths\n",
    "        self.weather_features = weather_features\n",
    "        self.load()\n",
    "        \n",
    "        self.OFFSET_1_HR = 12\n",
    "        \n",
    "    def load(self):\n",
    "        # HRV\n",
    "        self.hrvs = [zarr.open(hrv_path, mode='r') for hrv_path in self.hrv_paths]\n",
    "        self.time_index = [hrv.time.astype('datetime64[ns]') for hrv in self.hrvs]\n",
    "        \n",
    "        # Dataset Configuration\n",
    "        self.time_mapping = np.cumsum([len(hrv.time) for hrv in self.hrvs])\n",
    "        self.start = 0\n",
    "        self.end = self.time_mapping[-1]\n",
    "        self.length = self.end\n",
    "        \n",
    "        # PV\n",
    "        self.pvs = [self._load_parquet(pv_path) for pv_path in self.pv_paths]\n",
    "        \n",
    "        # Non-HRV\n",
    "        self.nonhrvs = [zarr.open(nonhrv_paths, mode='r') for nonhrv_paths in self.nonhrv_paths]\n",
    "        \n",
    "        # Weather\n",
    "        self.weathers = [self._load_zarr(weather_path) for weather_path in self.weather_paths]\n",
    "        \n",
    "    def _load_parquet(self, file_path):\n",
    "        return pd.read_parquet(file_path, engine='pyarrow').drop(\"generation_wh\", axis=1)\n",
    "    \n",
    "    def _load_zarr(self, file_path):\n",
    "        return xr.open_dataset(file_path, engine=\"zarr\", consolidated=True,)\n",
    "        \n",
    "    def _get_split(self, i):\n",
    "        s = np.argmax((i - self.time_mapping) < 0)\n",
    "        return s, i - self.time_mapping[s]\n",
    "        \n",
    "    def __iter__(self):\n",
    "        for i in range(self.start, self.end):\n",
    "            split, offset = self._get_split(i)\n",
    "            if offset + self.OFFSET_1_HR >= 0:\n",
    "                continue\n",
    "            cur_ts = pd.Timestamp(train_dataset.time_index[split][offset], tz=\"UTC\")\n",
    "            hrv_data = self.hrvs[split].data[offset:offset+self.OFFSET_1_HR]\n",
    "            nonhrv_data = self.nonhrvs[split].data[offset:offset+self.OFFSET_1_HR]\n",
    "            \n",
    "            cur_ts_no_tz = pd.Timestamp(train_dataset.time_index[split][offset])\n",
    "            six_hours = slice(cur_ts_no_tz - np.timedelta64(1, 'h'), cur_ts_no_tz + np.timedelta64(5, 'h'))\n",
    "            weather_data = self.weathers[split].sel(time=six_hours)\n",
    "            weather_data_arr = [weather_data[col].to_numpy() for col in self.weather_features]\n",
    "            \n",
    "            pv = self.pvs[split]\n",
    "            pv_features = pv.xs(slice(cur_ts, cur_ts + np.timedelta64(55, 'm')), drop_level=False)\n",
    "            pv_targets = pv.xs(\n",
    "                slice(\n",
    "                    str(cur_ts + np.timedelta64(1, 'h')),\n",
    "                    str(cur_ts + np.timedelta64(4, 'h') + np.timedelta64(55, 'm')),\n",
    "                ),\n",
    "                drop_level=False,\n",
    "            )\n",
    "\n",
    "            for site in self._sites:\n",
    "                \n",
    "                try:\n",
    "                \n",
    "                    # PV features and targets\n",
    "                    site_features = pv_features.xs(site, level=1).to_numpy().squeeze(-1)\n",
    "                    site_targets = pv_targets.xs(site, level=1).to_numpy().squeeze(-1)\n",
    "                    assert site_features.shape == (12,) and site_targets.shape == (48,)\n",
    "\n",
    "                    # HRV\n",
    "                    x, y = self._site_locations[\"hrv\"][site]\n",
    "                    hrv_features = hrv_data[:, y - 64 : y + 64, x - 64 : x + 64, 0]\n",
    "                    assert hrv_features.shape == (12, 128, 128)\n",
    "                    \n",
    "                    # Non HRV\n",
    "                    x, y = self._site_locations[\"nonhrv\"][site]\n",
    "                    nonhrv_features = nonhrv_data[:, y - 64 : y + 64, x - 64 : x + 64, :]\n",
    "                    assert nonhrv_features.shape == (12, 128, 128, 11)\n",
    "                    \n",
    "                    # Weather\n",
    "                    x, y = self._site_locations[\"weather\"][site]\n",
    "                    weather_features = np.array([weather_data[:, y - 64 : y + 64, x - 64 : x + 64] for weather_data in weather_data_arr])\n",
    "                    assert weather_features.shape == (len(self.weather_features), 6, 128, 128)\n",
    "\n",
    "                    yield site_features, hrv_features, nonhrv_features, weather_features, site_targets\n",
    "                \n",
    "                except Exception as e:\n",
    "                    # print(e)\n",
    "                    continue\n",
    "            \n",
    "def worker_init_fn(worker_id):\n",
    "    worker_info = torch.utils.data.get_worker_info()\n",
    "    dataset = worker_info.dataset  # the dataset copy in this worker process\n",
    "    # Critical! Open data file again in the sub-processes\n",
    "    dataset.load()\n",
    "    # configure the dataset to only process the split workload\n",
    "    per_worker = int(\n",
    "        math.ceil(\n",
    "            (dataset.length) / float(worker_info.num_workers)\n",
    "        )\n",
    "    )\n",
    "    worker_id = worker_info.id\n",
    "    dataset.start = dataset.start + worker_id * per_worker\n",
    "    dataset.end = min(dataset.start + per_worker, dataset.end)"
   ]
  },
  {
   "cell_type": "code",
   "execution_count": 5,
   "id": "b5177984-ff69-4ecd-864e-9ac05aa3617b",
   "metadata": {},
   "outputs": [],
   "source": [
    "BATCH_SIZE = 2048\n",
    "\n",
    "with open(\"indices.json\") as f:\n",
    "    site_locations = {\n",
    "        data_source: {\n",
    "            int(site): (int(location[0]), int(location[1]))\n",
    "            for site, location in locations.items()\n",
    "        }\n",
    "        for data_source, locations in json.load(f).items()\n",
    "    }\n",
    "\n",
    "hrv_paths = [os.path.join(data_dir, \"satellite-hrv\", \"2021\", \"10.zarr.zip\"),\n",
    "             os.path.join(data_dir, \"satellite-hrv\", \"2021\", \"11.zarr.zip\")]\n",
    "\n",
    "nonhrv_paths = [os.path.join(data_dir, \"satellite-nonhrv\", \"2021\", \"10.zarr.zip\"),\n",
    "                os.path.join(data_dir, \"satellite-nonhrv\", \"2021\", \"11.zarr.zip\")]\n",
    "\n",
    "pv_paths = [os.path.join(data_dir, \"pv\", \"2021\", \"10.parquet\"),\n",
    "            os.path.join(data_dir, \"pv\", \"2021\", \"11.parquet\")]\n",
    "\n",
    "weather_paths = [os.path.join(data_dir, \"weather\", \"2021\", \"10.zarr.zip\"),\n",
    "                 os.path.join(data_dir, \"weather\", \"2021\", \"11.zarr.zip\")]\n",
    "\n",
    "train_dataset = Dataset(hrv_paths=hrv_paths, \n",
    "                        nonhrv_paths=nonhrv_paths,\n",
    "                        pv_paths=pv_paths,\n",
    "                        weather_paths=weather_paths,\n",
    "                        site_locations=site_locations,\n",
    "                        weather_features=[\"alb_rad\", \"aswdifd_s\"])\n",
    "\n",
    "train_dataloader = DataLoader(train_dataset, batch_size=BATCH_SIZE, pin_memory=True, num_workers=0, worker_init_fn=worker_init_fn)"
   ]
  },
  {
   "cell_type": "code",
   "execution_count": 6,
   "id": "569da992-5da7-450f-bce1-e9f68da451d9",
   "metadata": {},
   "outputs": [
    {
     "data": {
      "text/plain": [
       "4132.974609375"
      ]
     },
     "execution_count": 6,
     "metadata": {},
     "output_type": "execute_result"
    }
   ],
   "source": [
    "train_dataset.length * len(site_locations[\"hrv\"]) / 2048"
   ]
  },
  {
   "cell_type": "code",
   "execution_count": 7,
   "id": "482ad328-5c84-4c78-9b7d-2f2630d9075d",
   "metadata": {},
   "outputs": [
    {
     "name": "stdout",
     "output_type": "stream",
     "text": [
      "torch.Size([2048, 12])\n",
      "torch.Size([2048, 12, 128, 128])\n",
      "torch.Size([2048, 12, 128, 128, 11])\n",
      "torch.Size([2048, 2, 6, 128, 128])\n",
      "torch.Size([2048, 48])\n"
     ]
    }
   ],
   "source": [
    "for site_features, hrv_features, nonhrv_features, weather_features, site_targets in train_dataloader:\n",
    "    print(site_features.shape)\n",
    "    print(hrv_features.shape)\n",
    "    print(nonhrv_features.shape)\n",
    "    print(weather_features.shape)\n",
    "    print(site_targets.shape)\n",
    "    break"
   ]
  },
  {
   "cell_type": "code",
   "execution_count": 100,
   "id": "34685a65-8193-4c0d-9359-4e6b020376c7",
   "metadata": {},
   "outputs": [
    {
     "data": {
      "text/plain": [
       "array([ 6725, 13232])"
      ]
     },
     "execution_count": 100,
     "metadata": {},
     "output_type": "execute_result"
    }
   ],
   "source": [
    "hrvs = [zarr.open(hrv_paths[i], mode='r') for i in range(len(hrv_paths))]\n",
    "ls = np.cumsum([len(hrv.time) for hrv in hrvs])\n",
    "ls"
   ]
  },
  {
   "cell_type": "code",
   "execution_count": 40,
   "id": "3bb5d61f-fd0a-4e63-9372-6e31e870f4f3",
   "metadata": {},
   "outputs": [],
   "source": [
    "def get_split(i, ls):\n",
    "    s = np.argmax((i - ls) < 0)\n",
    "    return s, i - ls[s]"
   ]
  },
  {
   "cell_type": "code",
   "execution_count": 41,
   "id": "e9d4f313-cd9f-4237-91a7-fb4be3c32270",
   "metadata": {},
   "outputs": [
    {
     "data": {
      "text/plain": [
       "(1, -6507)"
      ]
     },
     "execution_count": 41,
     "metadata": {},
     "output_type": "execute_result"
    }
   ],
   "source": [
    "get_split(6725, ls)"
   ]
  },
  {
   "cell_type": "code",
   "execution_count": 35,
   "id": "dfbd3e73-fb6b-49bd-a38f-61ed3be2d580",
   "metadata": {},
   "outputs": [
    {
     "data": {
      "text/html": [
       "<div>\n",
       "<style scoped>\n",
       "    .dataframe tbody tr th:only-of-type {\n",
       "        vertical-align: middle;\n",
       "    }\n",
       "\n",
       "    .dataframe tbody tr th {\n",
       "        vertical-align: top;\n",
       "    }\n",
       "\n",
       "    .dataframe thead th {\n",
       "        text-align: right;\n",
       "    }\n",
       "</style>\n",
       "<table border=\"1\" class=\"dataframe\">\n",
       "  <thead>\n",
       "    <tr style=\"text-align: right;\">\n",
       "      <th></th>\n",
       "      <th></th>\n",
       "      <th>power</th>\n",
       "    </tr>\n",
       "    <tr>\n",
       "      <th>timestamp</th>\n",
       "      <th>ss_id</th>\n",
       "      <th></th>\n",
       "    </tr>\n",
       "  </thead>\n",
       "  <tbody>\n",
       "    <tr>\n",
       "      <th rowspan=\"5\" valign=\"top\">2020-03-01 04:00:00+00:00</th>\n",
       "      <th>2607</th>\n",
       "      <td>0.0</td>\n",
       "    </tr>\n",
       "    <tr>\n",
       "      <th>2631</th>\n",
       "      <td>0.0</td>\n",
       "    </tr>\n",
       "    <tr>\n",
       "      <th>2657</th>\n",
       "      <td>0.0</td>\n",
       "    </tr>\n",
       "    <tr>\n",
       "      <th>2660</th>\n",
       "      <td>0.0</td>\n",
       "    </tr>\n",
       "    <tr>\n",
       "      <th>2729</th>\n",
       "      <td>0.0</td>\n",
       "    </tr>\n",
       "    <tr>\n",
       "      <th>...</th>\n",
       "      <th>...</th>\n",
       "      <td>...</td>\n",
       "    </tr>\n",
       "    <tr>\n",
       "      <th rowspan=\"5\" valign=\"top\">2020-03-01 04:55:00+00:00</th>\n",
       "      <th>27061</th>\n",
       "      <td>0.0</td>\n",
       "    </tr>\n",
       "    <tr>\n",
       "      <th>27063</th>\n",
       "      <td>0.0</td>\n",
       "    </tr>\n",
       "    <tr>\n",
       "      <th>27064</th>\n",
       "      <td>0.0</td>\n",
       "    </tr>\n",
       "    <tr>\n",
       "      <th>27065</th>\n",
       "      <td>0.0</td>\n",
       "    </tr>\n",
       "    <tr>\n",
       "      <th>27066</th>\n",
       "      <td>0.0</td>\n",
       "    </tr>\n",
       "  </tbody>\n",
       "</table>\n",
       "<p>10955 rows × 1 columns</p>\n",
       "</div>"
      ],
      "text/plain": [
       "                                 power\n",
       "timestamp                 ss_id       \n",
       "2020-03-01 04:00:00+00:00 2607     0.0\n",
       "                          2631     0.0\n",
       "                          2657     0.0\n",
       "                          2660     0.0\n",
       "                          2729     0.0\n",
       "...                                ...\n",
       "2020-03-01 04:55:00+00:00 27061    0.0\n",
       "                          27063    0.0\n",
       "                          27064    0.0\n",
       "                          27065    0.0\n",
       "                          27066    0.0\n",
       "\n",
       "[10955 rows x 1 columns]"
      ]
     },
     "execution_count": 35,
     "metadata": {},
     "output_type": "execute_result"
    }
   ],
   "source": [
    "df = train_dataset.pvs[0]\n",
    "df.xs(slice(, \n",
    "            pd.Timestamp(train_dataset.time_index[0][0], tz=\"UTC\") + np.timedelta64(55, 'm')), drop_level=False)"
   ]
  },
  {
   "cell_type": "code",
   "execution_count": 30,
   "id": "861a9a48-34f3-439e-aa6f-feac18be3198",
   "metadata": {},
   "outputs": [
    {
     "data": {
      "text/plain": [
       "(Timestamp('2020-03-01 00:00:00+0000', tz='UTC'), 2607)"
      ]
     },
     "execution_count": 30,
     "metadata": {},
     "output_type": "execute_result"
    }
   ],
   "source": [
    "df.index[0]"
   ]
  },
  {
   "cell_type": "code",
   "execution_count": 83,
   "id": "f132f52f-c2e1-44d4-87ea-cad1b5b7844f",
   "metadata": {},
   "outputs": [
    {
     "data": {
      "text/html": [
       "<div><svg style=\"position: absolute; width: 0; height: 0; overflow: hidden\">\n",
       "<defs>\n",
       "<symbol id=\"icon-database\" viewBox=\"0 0 32 32\">\n",
       "<path d=\"M16 0c-8.837 0-16 2.239-16 5v4c0 2.761 7.163 5 16 5s16-2.239 16-5v-4c0-2.761-7.163-5-16-5z\"></path>\n",
       "<path d=\"M16 17c-8.837 0-16-2.239-16-5v6c0 2.761 7.163 5 16 5s16-2.239 16-5v-6c0 2.761-7.163 5-16 5z\"></path>\n",
       "<path d=\"M16 26c-8.837 0-16-2.239-16-5v6c0 2.761 7.163 5 16 5s16-2.239 16-5v-6c0 2.761-7.163 5-16 5z\"></path>\n",
       "</symbol>\n",
       "<symbol id=\"icon-file-text2\" viewBox=\"0 0 32 32\">\n",
       "<path d=\"M28.681 7.159c-0.694-0.947-1.662-2.053-2.724-3.116s-2.169-2.030-3.116-2.724c-1.612-1.182-2.393-1.319-2.841-1.319h-15.5c-1.378 0-2.5 1.121-2.5 2.5v27c0 1.378 1.122 2.5 2.5 2.5h23c1.378 0 2.5-1.122 2.5-2.5v-19.5c0-0.448-0.137-1.23-1.319-2.841zM24.543 5.457c0.959 0.959 1.712 1.825 2.268 2.543h-4.811v-4.811c0.718 0.556 1.584 1.309 2.543 2.268zM28 29.5c0 0.271-0.229 0.5-0.5 0.5h-23c-0.271 0-0.5-0.229-0.5-0.5v-27c0-0.271 0.229-0.5 0.5-0.5 0 0 15.499-0 15.5 0v7c0 0.552 0.448 1 1 1h7v19.5z\"></path>\n",
       "<path d=\"M23 26h-14c-0.552 0-1-0.448-1-1s0.448-1 1-1h14c0.552 0 1 0.448 1 1s-0.448 1-1 1z\"></path>\n",
       "<path d=\"M23 22h-14c-0.552 0-1-0.448-1-1s0.448-1 1-1h14c0.552 0 1 0.448 1 1s-0.448 1-1 1z\"></path>\n",
       "<path d=\"M23 18h-14c-0.552 0-1-0.448-1-1s0.448-1 1-1h14c0.552 0 1 0.448 1 1s-0.448 1-1 1z\"></path>\n",
       "</symbol>\n",
       "</defs>\n",
       "</svg>\n",
       "<style>/* CSS stylesheet for displaying xarray objects in jupyterlab.\n",
       " *\n",
       " */\n",
       "\n",
       ":root {\n",
       "  --xr-font-color0: var(--jp-content-font-color0, rgba(0, 0, 0, 1));\n",
       "  --xr-font-color2: var(--jp-content-font-color2, rgba(0, 0, 0, 0.54));\n",
       "  --xr-font-color3: var(--jp-content-font-color3, rgba(0, 0, 0, 0.38));\n",
       "  --xr-border-color: var(--jp-border-color2, #e0e0e0);\n",
       "  --xr-disabled-color: var(--jp-layout-color3, #bdbdbd);\n",
       "  --xr-background-color: var(--jp-layout-color0, white);\n",
       "  --xr-background-color-row-even: var(--jp-layout-color1, white);\n",
       "  --xr-background-color-row-odd: var(--jp-layout-color2, #eeeeee);\n",
       "}\n",
       "\n",
       "html[theme=dark],\n",
       "body[data-theme=dark],\n",
       "body.vscode-dark {\n",
       "  --xr-font-color0: rgba(255, 255, 255, 1);\n",
       "  --xr-font-color2: rgba(255, 255, 255, 0.54);\n",
       "  --xr-font-color3: rgba(255, 255, 255, 0.38);\n",
       "  --xr-border-color: #1F1F1F;\n",
       "  --xr-disabled-color: #515151;\n",
       "  --xr-background-color: #111111;\n",
       "  --xr-background-color-row-even: #111111;\n",
       "  --xr-background-color-row-odd: #313131;\n",
       "}\n",
       "\n",
       ".xr-wrap {\n",
       "  display: block !important;\n",
       "  min-width: 300px;\n",
       "  max-width: 700px;\n",
       "}\n",
       "\n",
       ".xr-text-repr-fallback {\n",
       "  /* fallback to plain text repr when CSS is not injected (untrusted notebook) */\n",
       "  display: none;\n",
       "}\n",
       "\n",
       ".xr-header {\n",
       "  padding-top: 6px;\n",
       "  padding-bottom: 6px;\n",
       "  margin-bottom: 4px;\n",
       "  border-bottom: solid 1px var(--xr-border-color);\n",
       "}\n",
       "\n",
       ".xr-header > div,\n",
       ".xr-header > ul {\n",
       "  display: inline;\n",
       "  margin-top: 0;\n",
       "  margin-bottom: 0;\n",
       "}\n",
       "\n",
       ".xr-obj-type,\n",
       ".xr-array-name {\n",
       "  margin-left: 2px;\n",
       "  margin-right: 10px;\n",
       "}\n",
       "\n",
       ".xr-obj-type {\n",
       "  color: var(--xr-font-color2);\n",
       "}\n",
       "\n",
       ".xr-sections {\n",
       "  padding-left: 0 !important;\n",
       "  display: grid;\n",
       "  grid-template-columns: 150px auto auto 1fr 20px 20px;\n",
       "}\n",
       "\n",
       ".xr-section-item {\n",
       "  display: contents;\n",
       "}\n",
       "\n",
       ".xr-section-item input {\n",
       "  display: none;\n",
       "}\n",
       "\n",
       ".xr-section-item input + label {\n",
       "  color: var(--xr-disabled-color);\n",
       "}\n",
       "\n",
       ".xr-section-item input:enabled + label {\n",
       "  cursor: pointer;\n",
       "  color: var(--xr-font-color2);\n",
       "}\n",
       "\n",
       ".xr-section-item input:enabled + label:hover {\n",
       "  color: var(--xr-font-color0);\n",
       "}\n",
       "\n",
       ".xr-section-summary {\n",
       "  grid-column: 1;\n",
       "  color: var(--xr-font-color2);\n",
       "  font-weight: 500;\n",
       "}\n",
       "\n",
       ".xr-section-summary > span {\n",
       "  display: inline-block;\n",
       "  padding-left: 0.5em;\n",
       "}\n",
       "\n",
       ".xr-section-summary-in:disabled + label {\n",
       "  color: var(--xr-font-color2);\n",
       "}\n",
       "\n",
       ".xr-section-summary-in + label:before {\n",
       "  display: inline-block;\n",
       "  content: '►';\n",
       "  font-size: 11px;\n",
       "  width: 15px;\n",
       "  text-align: center;\n",
       "}\n",
       "\n",
       ".xr-section-summary-in:disabled + label:before {\n",
       "  color: var(--xr-disabled-color);\n",
       "}\n",
       "\n",
       ".xr-section-summary-in:checked + label:before {\n",
       "  content: '▼';\n",
       "}\n",
       "\n",
       ".xr-section-summary-in:checked + label > span {\n",
       "  display: none;\n",
       "}\n",
       "\n",
       ".xr-section-summary,\n",
       ".xr-section-inline-details {\n",
       "  padding-top: 4px;\n",
       "  padding-bottom: 4px;\n",
       "}\n",
       "\n",
       ".xr-section-inline-details {\n",
       "  grid-column: 2 / -1;\n",
       "}\n",
       "\n",
       ".xr-section-details {\n",
       "  display: none;\n",
       "  grid-column: 1 / -1;\n",
       "  margin-bottom: 5px;\n",
       "}\n",
       "\n",
       ".xr-section-summary-in:checked ~ .xr-section-details {\n",
       "  display: contents;\n",
       "}\n",
       "\n",
       ".xr-array-wrap {\n",
       "  grid-column: 1 / -1;\n",
       "  display: grid;\n",
       "  grid-template-columns: 20px auto;\n",
       "}\n",
       "\n",
       ".xr-array-wrap > label {\n",
       "  grid-column: 1;\n",
       "  vertical-align: top;\n",
       "}\n",
       "\n",
       ".xr-preview {\n",
       "  color: var(--xr-font-color3);\n",
       "}\n",
       "\n",
       ".xr-array-preview,\n",
       ".xr-array-data {\n",
       "  padding: 0 5px !important;\n",
       "  grid-column: 2;\n",
       "}\n",
       "\n",
       ".xr-array-data,\n",
       ".xr-array-in:checked ~ .xr-array-preview {\n",
       "  display: none;\n",
       "}\n",
       "\n",
       ".xr-array-in:checked ~ .xr-array-data,\n",
       ".xr-array-preview {\n",
       "  display: inline-block;\n",
       "}\n",
       "\n",
       ".xr-dim-list {\n",
       "  display: inline-block !important;\n",
       "  list-style: none;\n",
       "  padding: 0 !important;\n",
       "  margin: 0;\n",
       "}\n",
       "\n",
       ".xr-dim-list li {\n",
       "  display: inline-block;\n",
       "  padding: 0;\n",
       "  margin: 0;\n",
       "}\n",
       "\n",
       ".xr-dim-list:before {\n",
       "  content: '(';\n",
       "}\n",
       "\n",
       ".xr-dim-list:after {\n",
       "  content: ')';\n",
       "}\n",
       "\n",
       ".xr-dim-list li:not(:last-child):after {\n",
       "  content: ',';\n",
       "  padding-right: 5px;\n",
       "}\n",
       "\n",
       ".xr-has-index {\n",
       "  font-weight: bold;\n",
       "}\n",
       "\n",
       ".xr-var-list,\n",
       ".xr-var-item {\n",
       "  display: contents;\n",
       "}\n",
       "\n",
       ".xr-var-item > div,\n",
       ".xr-var-item label,\n",
       ".xr-var-item > .xr-var-name span {\n",
       "  background-color: var(--xr-background-color-row-even);\n",
       "  margin-bottom: 0;\n",
       "}\n",
       "\n",
       ".xr-var-item > .xr-var-name:hover span {\n",
       "  padding-right: 5px;\n",
       "}\n",
       "\n",
       ".xr-var-list > li:nth-child(odd) > div,\n",
       ".xr-var-list > li:nth-child(odd) > label,\n",
       ".xr-var-list > li:nth-child(odd) > .xr-var-name span {\n",
       "  background-color: var(--xr-background-color-row-odd);\n",
       "}\n",
       "\n",
       ".xr-var-name {\n",
       "  grid-column: 1;\n",
       "}\n",
       "\n",
       ".xr-var-dims {\n",
       "  grid-column: 2;\n",
       "}\n",
       "\n",
       ".xr-var-dtype {\n",
       "  grid-column: 3;\n",
       "  text-align: right;\n",
       "  color: var(--xr-font-color2);\n",
       "}\n",
       "\n",
       ".xr-var-preview {\n",
       "  grid-column: 4;\n",
       "}\n",
       "\n",
       ".xr-index-preview {\n",
       "  grid-column: 2 / 5;\n",
       "  color: var(--xr-font-color2);\n",
       "}\n",
       "\n",
       ".xr-var-name,\n",
       ".xr-var-dims,\n",
       ".xr-var-dtype,\n",
       ".xr-preview,\n",
       ".xr-attrs dt {\n",
       "  white-space: nowrap;\n",
       "  overflow: hidden;\n",
       "  text-overflow: ellipsis;\n",
       "  padding-right: 10px;\n",
       "}\n",
       "\n",
       ".xr-var-name:hover,\n",
       ".xr-var-dims:hover,\n",
       ".xr-var-dtype:hover,\n",
       ".xr-attrs dt:hover {\n",
       "  overflow: visible;\n",
       "  width: auto;\n",
       "  z-index: 1;\n",
       "}\n",
       "\n",
       ".xr-var-attrs,\n",
       ".xr-var-data,\n",
       ".xr-index-data {\n",
       "  display: none;\n",
       "  background-color: var(--xr-background-color) !important;\n",
       "  padding-bottom: 5px !important;\n",
       "}\n",
       "\n",
       ".xr-var-attrs-in:checked ~ .xr-var-attrs,\n",
       ".xr-var-data-in:checked ~ .xr-var-data,\n",
       ".xr-index-data-in:checked ~ .xr-index-data {\n",
       "  display: block;\n",
       "}\n",
       "\n",
       ".xr-var-data > table {\n",
       "  float: right;\n",
       "}\n",
       "\n",
       ".xr-var-name span,\n",
       ".xr-var-data,\n",
       ".xr-index-name div,\n",
       ".xr-index-data,\n",
       ".xr-attrs {\n",
       "  padding-left: 25px !important;\n",
       "}\n",
       "\n",
       ".xr-attrs,\n",
       ".xr-var-attrs,\n",
       ".xr-var-data,\n",
       ".xr-index-data {\n",
       "  grid-column: 1 / -1;\n",
       "}\n",
       "\n",
       "dl.xr-attrs {\n",
       "  padding: 0;\n",
       "  margin: 0;\n",
       "  display: grid;\n",
       "  grid-template-columns: 125px auto;\n",
       "}\n",
       "\n",
       ".xr-attrs dt,\n",
       ".xr-attrs dd {\n",
       "  padding: 0;\n",
       "  margin: 0;\n",
       "  float: left;\n",
       "  padding-right: 10px;\n",
       "  width: auto;\n",
       "}\n",
       "\n",
       ".xr-attrs dt {\n",
       "  font-weight: normal;\n",
       "  grid-column: 1;\n",
       "}\n",
       "\n",
       ".xr-attrs dt:hover span {\n",
       "  display: inline-block;\n",
       "  background: var(--xr-background-color);\n",
       "  padding-right: 10px;\n",
       "}\n",
       "\n",
       ".xr-attrs dd {\n",
       "  grid-column: 2;\n",
       "  white-space: pre-wrap;\n",
       "  word-break: break-all;\n",
       "}\n",
       "\n",
       ".xr-icon-database,\n",
       ".xr-icon-file-text2,\n",
       ".xr-no-icon {\n",
       "  display: inline-block;\n",
       "  vertical-align: middle;\n",
       "  width: 1em;\n",
       "  height: 1.5em !important;\n",
       "  stroke-width: 0;\n",
       "  stroke: currentColor;\n",
       "  fill: currentColor;\n",
       "}\n",
       "</style><pre class='xr-text-repr-fallback'>&lt;xarray.DataArray &#x27;time&#x27; (time: 589)&gt;\n",
       "array([&#x27;2020-03-01T04:00:00.000000000&#x27;, &#x27;2020-03-01T05:00:00.000000000&#x27;,\n",
       "       &#x27;2020-03-01T06:00:00.000000000&#x27;, ..., &#x27;2020-03-31T20:00:00.000000000&#x27;,\n",
       "       &#x27;2020-03-31T21:00:00.000000000&#x27;, &#x27;2020-03-31T22:00:00.000000000&#x27;],\n",
       "      dtype=&#x27;datetime64[ns]&#x27;)\n",
       "Coordinates:\n",
       "  * time     (time) datetime64[ns] 2020-03-01T04:00:00 ... 2020-03-31T22:00:00</pre><div class='xr-wrap' style='display:none'><div class='xr-header'><div class='xr-obj-type'>xarray.DataArray</div><div class='xr-array-name'>'time'</div><ul class='xr-dim-list'><li><span class='xr-has-index'>time</span>: 589</li></ul></div><ul class='xr-sections'><li class='xr-section-item'><div class='xr-array-wrap'><input id='section-5abc399e-0f1a-4fa2-aa4a-86ac0de6f42d' class='xr-array-in' type='checkbox' checked><label for='section-5abc399e-0f1a-4fa2-aa4a-86ac0de6f42d' title='Show/hide data repr'><svg class='icon xr-icon-database'><use xlink:href='#icon-database'></use></svg></label><div class='xr-array-preview xr-preview'><span>2020-03-01T04:00:00 2020-03-01T05:00:00 ... 2020-03-31T22:00:00</span></div><div class='xr-array-data'><pre>array([&#x27;2020-03-01T04:00:00.000000000&#x27;, &#x27;2020-03-01T05:00:00.000000000&#x27;,\n",
       "       &#x27;2020-03-01T06:00:00.000000000&#x27;, ..., &#x27;2020-03-31T20:00:00.000000000&#x27;,\n",
       "       &#x27;2020-03-31T21:00:00.000000000&#x27;, &#x27;2020-03-31T22:00:00.000000000&#x27;],\n",
       "      dtype=&#x27;datetime64[ns]&#x27;)</pre></div></div></li><li class='xr-section-item'><input id='section-4e78b3e1-4b77-4da6-a0cb-35368e9b6668' class='xr-section-summary-in' type='checkbox'  checked><label for='section-4e78b3e1-4b77-4da6-a0cb-35368e9b6668' class='xr-section-summary' >Coordinates: <span>(1)</span></label><div class='xr-section-inline-details'></div><div class='xr-section-details'><ul class='xr-var-list'><li class='xr-var-item'><div class='xr-var-name'><span class='xr-has-index'>time</span></div><div class='xr-var-dims'>(time)</div><div class='xr-var-dtype'>datetime64[ns]</div><div class='xr-var-preview xr-preview'>2020-03-01T04:00:00 ... 2020-03-...</div><input id='attrs-54773da1-1832-4f1b-828b-86e71d6c81eb' class='xr-var-attrs-in' type='checkbox' disabled><label for='attrs-54773da1-1832-4f1b-828b-86e71d6c81eb' title='Show/Hide attributes'><svg class='icon xr-icon-file-text2'><use xlink:href='#icon-file-text2'></use></svg></label><input id='data-9366b850-80af-42d8-88eb-5c2c9f7a0f29' class='xr-var-data-in' type='checkbox'><label for='data-9366b850-80af-42d8-88eb-5c2c9f7a0f29' title='Show/Hide data repr'><svg class='icon xr-icon-database'><use xlink:href='#icon-database'></use></svg></label><div class='xr-var-attrs'><dl class='xr-attrs'></dl></div><div class='xr-var-data'><pre>array([&#x27;2020-03-01T04:00:00.000000000&#x27;, &#x27;2020-03-01T05:00:00.000000000&#x27;,\n",
       "       &#x27;2020-03-01T06:00:00.000000000&#x27;, ..., &#x27;2020-03-31T20:00:00.000000000&#x27;,\n",
       "       &#x27;2020-03-31T21:00:00.000000000&#x27;, &#x27;2020-03-31T22:00:00.000000000&#x27;],\n",
       "      dtype=&#x27;datetime64[ns]&#x27;)</pre></div></li></ul></div></li><li class='xr-section-item'><input id='section-f4fca9b7-4236-4344-a59e-1edfc7535a8b' class='xr-section-summary-in' type='checkbox'  ><label for='section-f4fca9b7-4236-4344-a59e-1edfc7535a8b' class='xr-section-summary' >Indexes: <span>(1)</span></label><div class='xr-section-inline-details'></div><div class='xr-section-details'><ul class='xr-var-list'><li class='xr-var-item'><div class='xr-index-name'><div>time</div></div><div class='xr-index-preview'>PandasIndex</div><div></div><input id='index-ea829822-2bf5-4c52-9559-60d22092bddf' class='xr-index-data-in' type='checkbox'/><label for='index-ea829822-2bf5-4c52-9559-60d22092bddf' title='Show/Hide index repr'><svg class='icon xr-icon-database'><use xlink:href='#icon-database'></use></svg></label><div class='xr-index-data'><pre>PandasIndex(DatetimeIndex([&#x27;2020-03-01 04:00:00&#x27;, &#x27;2020-03-01 05:00:00&#x27;,\n",
       "               &#x27;2020-03-01 06:00:00&#x27;, &#x27;2020-03-01 07:00:00&#x27;,\n",
       "               &#x27;2020-03-01 08:00:00&#x27;, &#x27;2020-03-01 09:00:00&#x27;,\n",
       "               &#x27;2020-03-01 10:00:00&#x27;, &#x27;2020-03-01 11:00:00&#x27;,\n",
       "               &#x27;2020-03-01 12:00:00&#x27;, &#x27;2020-03-01 13:00:00&#x27;,\n",
       "               ...\n",
       "               &#x27;2020-03-31 13:00:00&#x27;, &#x27;2020-03-31 14:00:00&#x27;,\n",
       "               &#x27;2020-03-31 15:00:00&#x27;, &#x27;2020-03-31 16:00:00&#x27;,\n",
       "               &#x27;2020-03-31 17:00:00&#x27;, &#x27;2020-03-31 18:00:00&#x27;,\n",
       "               &#x27;2020-03-31 19:00:00&#x27;, &#x27;2020-03-31 20:00:00&#x27;,\n",
       "               &#x27;2020-03-31 21:00:00&#x27;, &#x27;2020-03-31 22:00:00&#x27;],\n",
       "              dtype=&#x27;datetime64[ns]&#x27;, name=&#x27;time&#x27;, length=589, freq=None))</pre></div></li></ul></div></li><li class='xr-section-item'><input id='section-a8327704-84f3-4782-b034-daa0a696daf9' class='xr-section-summary-in' type='checkbox' disabled ><label for='section-a8327704-84f3-4782-b034-daa0a696daf9' class='xr-section-summary'  title='Expand/collapse section'>Attributes: <span>(0)</span></label><div class='xr-section-inline-details'></div><div class='xr-section-details'><dl class='xr-attrs'></dl></div></li></ul></div></div>"
      ],
      "text/plain": [
       "<xarray.DataArray 'time' (time: 589)>\n",
       "array(['2020-03-01T04:00:00.000000000', '2020-03-01T05:00:00.000000000',\n",
       "       '2020-03-01T06:00:00.000000000', ..., '2020-03-31T20:00:00.000000000',\n",
       "       '2020-03-31T21:00:00.000000000', '2020-03-31T22:00:00.000000000'],\n",
       "      dtype='datetime64[ns]')\n",
       "Coordinates:\n",
       "  * time     (time) datetime64[ns] 2020-03-01T04:00:00 ... 2020-03-31T22:00:00"
      ]
     },
     "execution_count": 83,
     "metadata": {},
     "output_type": "execute_result"
    }
   ],
   "source": [
    "train_dataset.weathers[0].time"
   ]
  },
  {
   "cell_type": "code",
   "execution_count": 87,
   "id": "e04fe03d-2536-413a-834d-51dbeb878b16",
   "metadata": {},
   "outputs": [
    {
     "data": {
      "text/plain": [
       "(6, 305, 289)"
      ]
     },
     "execution_count": 87,
     "metadata": {},
     "output_type": "execute_result"
    }
   ],
   "source": [
    "six_hours = slice(str(pd.Timestamp(train_dataset.time_index[0][0]) - np.timedelta64(1, 'h')), \n",
    "                  str(pd.Timestamp(train_dataset.time_index[0][0]) + np.timedelta64(5, 'h')))\n",
    "train_dataset.weathers[0][\"alb_rad\"].sel(time=six_hours).to_numpy().shape"
   ]
  },
  {
   "cell_type": "code",
   "execution_count": 129,
   "id": "175e705b-e81f-444a-861b-e3819eda890e",
   "metadata": {},
   "outputs": [
    {
     "data": {
      "text/plain": [
       "(12, 293, 333, 11)"
      ]
     },
     "execution_count": 129,
     "metadata": {},
     "output_type": "execute_result"
    }
   ],
   "source": [
    "train_dataset.nonhrvs[0].data[:12, :, :, :].shape"
   ]
  },
  {
   "cell_type": "code",
   "execution_count": 124,
   "id": "b2166244-a7f8-43d3-9121-c0fb79eeebd0",
   "metadata": {},
   "outputs": [
    {
     "data": {
      "text/plain": [
       "['IR_016',\n",
       " 'IR_039',\n",
       " 'IR_087',\n",
       " 'IR_097',\n",
       " 'IR_108',\n",
       " 'IR_120',\n",
       " 'IR_134',\n",
       " 'VIS006',\n",
       " 'VIS008',\n",
       " 'WV_062',\n",
       " 'WV_073']"
      ]
     },
     "execution_count": 124,
     "metadata": {},
     "output_type": "execute_result"
    }
   ],
   "source": [
    "list(train_dataset.nonhrvs[0].channel[:])"
   ]
  },
  {
   "cell_type": "code",
   "execution_count": 126,
   "id": "4d108b73-ad84-4d26-8673-f097a7049480",
   "metadata": {},
   "outputs": [
    {
     "data": {
      "text/plain": [
       "8"
      ]
     },
     "execution_count": 126,
     "metadata": {},
     "output_type": "execute_result"
    }
   ],
   "source": [
    "list(train_dataset.nonhrvs[0].channel[:]).index(\"VIS008\")"
   ]
  },
  {
   "cell_type": "code",
   "execution_count": 13,
   "id": "4cdda288-8b3a-47b8-9322-64b42d677f00",
   "metadata": {},
   "outputs": [
    {
     "data": {
      "text/plain": [
       "(torch.Size([128, 12, 1, 128, 128]), torch.Size([128, 12, 128, 128, 11]))"
      ]
     },
     "execution_count": 13,
     "metadata": {},
     "output_type": "execute_result"
    }
   ],
   "source": [
    "hrv_features.unsqueeze(2).shape, nonhrv_features.shape"
   ]
  },
  {
   "cell_type": "code",
   "execution_count": 15,
   "id": "ae3846c8-63a1-4df9-9fde-7d717b9f29e9",
   "metadata": {},
   "outputs": [
    {
     "data": {
      "text/plain": [
       "torch.Size([128, 12, 12, 128, 128])"
      ]
     },
     "execution_count": 15,
     "metadata": {},
     "output_type": "execute_result"
    }
   ],
   "source": [
    "torch.cat((hrv_features.unsqueeze(2), nonhrv_features.permute(0, 1, 4, 2, 3)), dim=2).shape"
   ]
  },
  {
   "cell_type": "code",
   "execution_count": 1,
   "id": "2c2d2b35-2879-4785-919c-ba7799600275",
   "metadata": {},
   "outputs": [],
   "source": [
    "import os\n",
    "import json\n",
    "import numpy as np\n",
    "import pandas as pd\n",
    "import matplotlib.pyplot as plt"
   ]
  },
  {
   "cell_type": "code",
   "execution_count": 2,
   "id": "373d2cd0-2c53-4dca-bfff-bc5bf35c0a4d",
   "metadata": {},
   "outputs": [],
   "source": [
    "from data_util import Dataset\n",
    "\n",
    "data_dir = os.path.join(\"..\", \"climatehackai-2023\")\n",
    "\n",
    "weather_features_name = [\"alb_rad\", \"aswdifd_s\", \"aswdir_s\", #\"cape_con\", \n",
    "                 \"clch\", \"clcl\", \"clcm\", \"clct\", \"h_snow\",\n",
    "                 \"relhum_2m\", \"t_2m\", \"tot_prec\"]\n",
    "\n",
    "with open(\"indices.json\") as f:\n",
    "    site_locations = {\n",
    "        data_source: {\n",
    "            int(site): (int(location[0]), int(location[1]))\n",
    "            for site, location in locations.items()\n",
    "        }\n",
    "        for data_source, locations in json.load(f).items()\n",
    "    }\n",
    "\n",
    "hrv_paths = [os.path.join(data_dir, \"satellite-hrv\", \"2021\", f\"{i}.zarr.zip\") for i in range(9, 11)]\n",
    "\n",
    "nonhrv_paths = [os.path.join(data_dir, \"satellite-nonhrv\", \"2021\", f\"{i}.zarr.zip\") for i in range(9, 11)]\n",
    "\n",
    "pv_paths = [os.path.join(data_dir, \"pv\", \"2021\", f\"{i}.parquet\") for i in range(9, 11)]\n",
    "\n",
    "weather_paths = [os.path.join(data_dir, \"weather\", \"2021\", f\"{i}.zarr.zip\") for i in range(9, 11)]\n",
    "\n",
    "num_sites = 10\n",
    "\n",
    "train_dataset = Dataset(hrv_paths=hrv_paths, \n",
    "                     nonhrv_paths=nonhrv_paths,\n",
    "                     pv_paths=pv_paths,\n",
    "                     weather_paths=weather_paths,\n",
    "                     site_locations=site_locations,\n",
    "                     weather_features=weather_features_name,\n",
    "                     num_sites=num_sites,\n",
    "                     length=10,\n",
    "                     site_shuffle=True)"
   ]
  },
  {
   "cell_type": "code",
   "execution_count": 26,
   "id": "a4514631-851b-40c6-b1ff-dfd70016e275",
   "metadata": {},
   "outputs": [
    {
     "name": "stdout",
     "output_type": "stream",
     "text": [
      "2021-09-12 16:20:00+00:00\n",
      "(12,) (12, 128, 128) (12, 128, 128, 11) (11, 6, 128, 128) (48,)\n"
     ]
    }
   ],
   "source": [
    "for i, data in enumerate(train_dataset):\n",
    "    pv_features, hrv_features, non_hrv_features, weather_features, pv_targets, ts = data\n",
    "    if i == np.random.randint(100):\n",
    "        break\n",
    "print(ts)\n",
    "print(pv_features.shape, hrv_features.shape, non_hrv_features.shape, weather_features.shape, pv_targets.shape)"
   ]
  },
  {
   "cell_type": "code",
   "execution_count": 27,
   "id": "19984c97-15f6-4364-9abb-31152aa72385",
   "metadata": {},
   "outputs": [
    {
     "data": {
      "image/png": "[encoded data removed]",
      "text/plain": [
       "<Figure size 1800x800 with 6 Axes>"
      ]
     },
     "metadata": {},
     "output_type": "display_data"
    }
   ],
   "source": [
    "fig, axs = plt.subplots(2, 3, layout='constrained', figsize=(18, 8))\n",
    "axs[0, 0].plot(np.arange(pv_features.shape[0]), pv_features, 'b')\n",
    "axs[0, 0].plot(np.arange(pv_features.shape[0], pv_features.shape[0] + pv_targets.shape[0]), pv_targets, 'r')\n",
    "axs[0, 0].grid()\n",
    "axs[0, 0].set_title(\"PV\")\n",
    "# axs[1].plot(hrv_features.reshape(12, 128*128).mean(axis=-1), label=\"hrv\")\n",
    "wfi = 9\n",
    "axs[1, 0].plot(weather_features[wfi].reshape(6, 128*128).mean(axis=-1) - 273, label=weather_features_name[wfi])\n",
    "axs[1, 0].legend()\n",
    "axs[1, 0].grid()\n",
    "axs[1, 0].set_title(\"Temperature 2m\")\n",
    "wfi = 8\n",
    "axs[1, 1].plot(weather_features[wfi].reshape(6, 128*128).mean(axis=-1), label=weather_features_name[wfi])\n",
    "axs[1, 1].legend()\n",
    "axs[1, 1].grid()\n",
    "axs[1, 1].set_title(\"Humidity 2m (%)\")\n",
    "wfi = 0\n",
    "axs[1, 2].plot(weather_features[wfi].reshape(6, 128*128).mean(axis=-1), label=weather_features_name[wfi])\n",
    "axs[1, 2].legend()\n",
    "axs[1, 2].grid()\n",
    "axs[1, 2].set_title(\"Relect\")\n",
    "plt.show()"
   ]
  },
  {
   "cell_type": "code",
   "execution_count": 127,
   "id": "5a61976c-dea4-4f58-bff3-02effee0c0db",
   "metadata": {},
   "outputs": [],
   "source": [
    "import xarray as xr\n",
    "\n",
    "def _load_zarr(file_path):\n",
    "    return xr.open_dataset(file_path, engine=\"zarr\", consolidated=True,)\n",
    "\n",
    "def _load_parquet(file_path):\n",
    "    return pd.read_parquet(file_path, engine='pyarrow').drop(\"generation_wh\", axis=1)"
   ]
  },
  {
   "cell_type": "code",
   "execution_count": 128,
   "id": "8b262b36-96ca-465f-b6e9-992535f2874b",
   "metadata": {},
   "outputs": [],
   "source": [
    "weather_paths = [os.path.join(data_dir, \"weather\", \"2021\", f\"{i}.zarr.zip\") for i in range(9, 10)]\n",
    "weathers = [_load_zarr(weather_path) for weather_path in weather_paths]\n",
    "\n",
    "pv_paths = [os.path.join(data_dir, \"pv\", \"2021\", f\"{i}.parquet\") for i in range(9, 11)]\n",
    "pvs = [_load_parquet(pv_path) for pv_path in pv_paths]\n",
    "pv_data = pvs[0].xs(site, level=1)\n",
    "\n",
    "cur_ts = pd.Timestamp(\"2021-09-01 00:06:00\", tz=\"UTC\")"
   ]
  },
  {
   "cell_type": "code",
   "execution_count": 208,
   "id": "e3f90c77-d366-4dbf-9008-4f529e7da76e",
   "metadata": {},
   "outputs": [],
   "source": [
    "weather_paths = [os.path.join(data_dir, \"weather\", \"2021\", f\"{i}.zarr.zip\") for i in range(1, 10)]\n",
    "weathers = [_load_zarr(weather_path) for weather_path in weather_paths]"
   ]
  },
  {
   "cell_type": "code",
   "execution_count": 226,
   "id": "4a019fa0-a0b0-404e-9a6b-9e87c79ecced",
   "metadata": {},
   "outputs": [
    {
     "data": {
      "text/plain": [
       "(4984, 305, 289)"
      ]
     },
     "execution_count": 226,
     "metadata": {},
     "output_type": "execute_result"
    }
   ],
   "source": [
    "all_d = np.concatenate([w.t_2m.to_numpy() for w in weathers], axis=0)\n",
    "all_d.shape"
   ]
  },
  {
   "cell_type": "code",
   "execution_count": 239,
   "id": "b69cfbe9-cf30-4f7a-9c1d-43bf4e737563",
   "metadata": {},
   "outputs": [
    {
     "data": {
      "text/plain": [
       "283.74854"
      ]
     },
     "execution_count": 239,
     "metadata": {},
     "output_type": "execute_result"
    }
   ],
   "source": [
    "all_d.mean()"
   ]
  },
  {
   "cell_type": "code",
   "execution_count": 240,
   "id": "f78fb912-20aa-4b23-b74c-8264760e417f",
   "metadata": {},
   "outputs": [
    {
     "data": {
      "text/plain": [
       "5.5142407"
      ]
     },
     "execution_count": 240,
     "metadata": {},
     "output_type": "execute_result"
    }
   ],
   "source": [
    "all_d.std()"
   ]
  },
  {
   "cell_type": "code",
   "execution_count": 227,
   "id": "c075212c-ea21-4ccb-8379-f834a763f7f4",
   "metadata": {},
   "outputs": [],
   "source": [
    "all_d_mean, all_d_std = all_d.mean(axis=0), all_d.std(axis=0)"
   ]
  },
  {
   "cell_type": "code",
   "execution_count": 228,
   "id": "65f10f99-1323-4084-a82a-9f3c8a0bb363",
   "metadata": {},
   "outputs": [
    {
     "data": {
      "text/plain": [
       "((305, 289), (305, 289))"
      ]
     },
     "execution_count": 228,
     "metadata": {},
     "output_type": "execute_result"
    }
   ],
   "source": [
    "all_d_mean.shape, all_d_std.shape"
   ]
  },
  {
   "cell_type": "code",
   "execution_count": 231,
   "id": "4df8d785-5d25-479f-b8b8-9d5f68c2808c",
   "metadata": {},
   "outputs": [],
   "source": [
    "with open('t_2m_2021_mean.npy', 'wb') as f:\n",
    "    np.save(f, all_d_mean)\n",
    "    \n",
    "with open('t_2m_2021_std.npy', 'wb') as f:\n",
    "    np.save(f, all_d_std)"
   ]
  },
  {
   "cell_type": "code",
   "execution_count": 233,
   "id": "d05e42ec-b377-45af-999a-a3446c3249cc",
   "metadata": {},
   "outputs": [],
   "source": [
    "with open('t_2m_2021_mean.npy', 'rb') as f:\n",
    "    a = np.load(f)"
   ]
  },
  {
   "cell_type": "code",
   "execution_count": 235,
   "id": "80887f45-5797-4ecb-bd6b-a6cc6fa2b3fc",
   "metadata": {},
   "outputs": [
    {
     "data": {
      "text/plain": [
       "(305, 289)"
      ]
     },
     "execution_count": 235,
     "metadata": {},
     "output_type": "execute_result"
    }
   ],
   "source": [
    "a.shape"
   ]
  },
  {
   "cell_type": "code",
   "execution_count": 176,
   "id": "b280b556-2978-4dd3-bdec-997acf8aba83",
   "metadata": {},
   "outputs": [
    {
     "data": {
      "text/plain": [
       "(10841, 127, 131)"
      ]
     },
     "execution_count": 176,
     "metadata": {},
     "output_type": "execute_result"
    }
   ],
   "source": [
    "site = np.random.choice(list(site_locations[\"weather\"].keys()))\n",
    "x, y = site_locations[\"weather\"][site]\n",
    "\n",
    "alb_rad = weathers[0].alb_rad.to_numpy()\n",
    "site_alb_rad = alb_rad[:, y - 64 : y + 64, x - 64 : x + 64]\n",
    "site_alb_rad = site_alb_rad.reshape(site_alb_rad.shape[0], 128*128).mean(axis=-1).reshape(int(site_alb_rad.shape[0] / 19), 19)\n",
    "site_alb_rad_normed = (site_alb_rad - site_alb_rad.min()) / (site_alb_rad.max() - site_alb_rad.min())\n",
    "\n",
    "t_2m = weathers[0].t_2m.to_numpy()\n",
    "site_t_2m = t_2m[:, y - 64 : y + 64, x - 64 : x + 64]\n",
    "site_t_2m = site_t_2m.reshape(site_t_2m.shape[0], 128*128).mean(axis=-1).reshape(int(site_t_2m.shape[0] / 19), 19)\n",
    "site_t_2m_normed = (site_t_2m - site_t_2m.min()) / (site_t_2m.max() - site_t_2m.min())\n",
    "\n",
    "relhum_2m = weathers[0].relhum_2m.to_numpy()\n",
    "site_relhum_2m = relhum_2m[:, y - 64 : y + 64, x - 64 : x + 64]\n",
    "site_relhum_2m = site_relhum_2m.reshape(site_relhum_2m.shape[0], 128*128).mean(axis=-1).reshape(int(site_relhum_2m.shape[0] / 19), 19)\n",
    "site_relhum_2m_normed = (site_relhum_2m - site_relhum_2m.min()) / (site_relhum_2m.max() - site_relhum_2m.min())\n",
    "\n",
    "clct = weathers[0].clct.to_numpy()\n",
    "site_clct = clct[:, y - 64 : y + 64, x - 64 : x + 64]\n",
    "site_clct = site_clct.reshape(site_clct.shape[0], 128*128).mean(axis=-1).reshape(int(site_clct.shape[0] / 19), 19)\n",
    "site_clct_normed = (site_clct - site_clct.min()) / (site_clct.max() - site_clct.min())\n",
    "\n",
    "site, x, y"
   ]
  },
  {
   "cell_type": "code",
   "execution_count": 105,
   "id": "740e31f9-2c7f-4036-8014-124ce6adf7ff",
   "metadata": {},
   "outputs": [
    {
     "data": {
      "text/plain": [
       "(30, 19)"
      ]
     },
     "execution_count": 105,
     "metadata": {},
     "output_type": "execute_result"
    }
   ],
   "source": [
    "site_alb_rad.shape"
   ]
  },
  {
   "cell_type": "code",
   "execution_count": 186,
   "id": "003d91df-c3b7-4269-8929-dd52e4719960",
   "metadata": {},
   "outputs": [],
   "source": [
    "ind = 0\n",
    "_pv_data = pv_data[(pv_data.index >= \"2021-09-01 04:00:00\") & (pv_data.index <= \"2021-09-01 22:00:00\")].values.flatten()[::12]"
   ]
  },
  {
   "cell_type": "code",
   "execution_count": 187,
   "id": "59e59a00-1391-4647-9706-222f38caf553",
   "metadata": {},
   "outputs": [
    {
     "data": {
      "text/plain": [
       "array([0.        , 0.        , 0.0096169 , 0.13861233, 0.34964511,\n",
       "       0.53033985, 0.6558797 , 0.72618045, 0.75494135, 0.73302256,\n",
       "       0.66373534, 0.55362707, 0.39869774, 0.20499068, 0.04162045,\n",
       "       0.        , 0.        , 0.        , 0.        ])"
      ]
     },
     "execution_count": 187,
     "metadata": {},
     "output_type": "execute_result"
    }
   ],
   "source": [
    "_pv_data"
   ]
  },
  {
   "cell_type": "code",
   "execution_count": 188,
   "id": "4f18d7f6-c41c-43ad-9731-6f0a7fd01e63",
   "metadata": {},
   "outputs": [
    {
     "data": {
      "image/png": "[encoded data removed]",
      "text/plain": [
       "<Figure size 1200x600 with 2 Axes>"
      ]
     },
     "metadata": {},
     "output_type": "display_data"
    }
   ],
   "source": [
    "fig, ax1 = plt.subplots(figsize=(12,6))\n",
    "ax2 = ax1.twinx()\n",
    "ax1.plot([str(s)[:-3] for s in pd.date_range(start='04:00:00', end='22:00:00', periods=19).time], site_alb_rad_normed[ind], \"b\", label=\"alb_rad\")\n",
    "ax2.plot([str(s)[:-3] for s in pd.date_range(start='04:00:00', end='22:00:00', periods=19).time], _pv_data, \"r\", label=\"pv\")\n",
    "ax1.grid()"
   ]
  },
  {
   "cell_type": "code",
   "execution_count": 200,
   "id": "bbab38f0-d901-4daa-9117-b3f8768d9a59",
   "metadata": {},
   "outputs": [
    {
     "data": {
      "image/png": "[encoded data removed]",
      "text/plain": [
       "<Figure size 1200x600 with 2 Axes>"
      ]
     },
     "metadata": {},
     "output_type": "display_data"
    }
   ],
   "source": [
    "fig, ax1 = plt.subplots(figsize=(12,6))\n",
    "ax2 = ax1.twinx()\n",
    "ax1.plot([str(s)[:-3] for s in pd.date_range(start='04:00:00', end='22:00:00', periods=19).time], site_t_2m_normed[ind], \"b\", label=\"t_2m\")\n",
    "ax2.plot([str(s)[:-3] for s in pd.date_range(start='04:00:00', end='22:00:00', periods=19).time], _pv_data, \"r\", label=\"pv\")\n",
    "ax1.grid()"
   ]
  },
  {
   "cell_type": "code",
   "execution_count": 197,
   "id": "b4e914e4-7ca7-419f-b5a1-24c4945ea159",
   "metadata": {},
   "outputs": [
    {
     "data": {
      "image/png": "[encoded data removed]",
      "text/plain": [
       "<Figure size 1200x600 with 1 Axes>"
      ]
     },
     "metadata": {},
     "output_type": "display_data"
    }
   ],
   "source": [
    "fig, ax1 = plt.subplots(figsize=(12,6))\n",
    "# ax2 = ax1.twinx()\n",
    "ax1.plot([str(s)[:-3] for s in pd.date_range(start='04:00:00', end='22:00:00', periods=19).time], site_relhum_2m_normed[ind], \"b\", label=\"relhum_2m\")\n",
    "ax2.plot([str(s)[:-3] for s in pd.date_range(start='04:00:00', end='22:00:00', periods=19).time], _pv_data, \"r\", label=\"pv\")\n",
    "ax1.grid()"
   ]
  },
  {
   "cell_type": "code",
   "execution_count": 194,
   "id": "d3f03571-9828-4a7a-ad0d-459b83cee16c",
   "metadata": {},
   "outputs": [
    {
     "data": {
      "image/png": "[encoded data removed]",
      "text/plain": [
       "<Figure size 1200x600 with 2 Axes>"
      ]
     },
     "metadata": {},
     "output_type": "display_data"
    }
   ],
   "source": [
    "fig, ax1 = plt.subplots(figsize=(12,6))\n",
    "ax2 = ax1.twinx()\n",
    "ax1.plot([str(s)[:-3] for s in pd.date_range(start='04:00:00', end='22:00:00', periods=19).time], site_clct_normed[ind], \"b\", label=\"clct\")\n",
    "ax2.plot([str(s)[:-3] for s in pd.date_range(start='04:00:00', end='22:00:00', periods=19).time], _pv_data, \"r\", label=\"pv\")\n",
    "ax1.grid()"
   ]
  }
 ],
 "metadata": {
  "kernelspec": {
   "display_name": "Python 3 (ipykernel)",
   "language": "python",
   "name": "python3"
  },
  "language_info": {
   "codemirror_mode": {
    "name": "ipython",
    "version": 3
   },
   "file_extension": ".py",
   "mimetype": "text/x-python",
   "name": "python",
   "nbconvert_exporter": "python",
   "pygments_lexer": "ipython3",
   "version": "3.9.16"
  }
 },
 "nbformat": 4,
 "nbformat_minor": 5
}
